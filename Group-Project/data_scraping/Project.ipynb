{
 "metadata": {
  "language_info": {
   "codemirror_mode": {
    "name": "ipython",
    "version": 3
   },
   "file_extension": ".py",
   "mimetype": "text/x-python",
   "name": "python",
   "nbconvert_exporter": "python",
   "pygments_lexer": "ipython3",
   "version": "3.8.3-final"
  },
  "orig_nbformat": 2,
  "kernelspec": {
   "name": "python3",
   "display_name": "Python 3"
  }
 },
 "nbformat": 4,
 "nbformat_minor": 2,
 "cells": [
  {
   "cell_type": "code",
   "execution_count": 4,
   "metadata": {},
   "outputs": [],
   "source": [
    "from basketball_reference_web_scraper import client\n",
    "\n",
    "from basketball_reference_web_scraper.data import Location\n",
    "from basketball_reference_web_scraper.data import Team\n",
    "from basketball_reference_web_scraper.data import OutputType\n",
    "from basketball_reference_web_scraper.data import Position\n",
    "\n",
    "from sklearn.cluster import KMeans\n",
    "from sklearn.mixture import GaussianMixture\n",
    "from sklearn.model_selection import train_test_split\n",
    "from sklearn.metrics import confusion_matrix\n",
    "from sklearn.metrics import accuracy_score\n",
    "from sklearn.decomposition import PCA\n",
    "\n",
    "import tensorflow as tf\n",
    "from tensorflow import keras\n",
    "from tensorflow.keras.datasets import mnist\n",
    "from tensorflow.keras.models import Sequential\n",
    "from tensorflow.keras.layers import Dense\n",
    "\n",
    "import matplotlib.pyplot as plt\n",
    "\n",
    "import pandas as pd\n",
    "\n",
    "from matplotlib import pyplot as plt\n",
    "\n",
    "%matplotlib inline"
   ]
  },
  {
   "cell_type": "code",
   "execution_count": 102,
   "metadata": {},
   "outputs": [],
   "source": [
    "client.players_advanced_season_totals(season_end_year=2001, output_type=OutputType.CSV, output_file_path=\"./2000-2001_advanced_player_season_totals.csv\")\n",
    "client.players_season_totals(season_end_year=2010, output_type=OutputType.CSV, output_file_path=\"./2000-2001_player_season_totals.csv\" )"
   ]
  },
  {
   "cell_type": "code",
   "execution_count": null,
   "metadata": {},
   "outputs": [],
   "source": []
  },
  {
   "cell_type": "code",
   "execution_count": 103,
   "metadata": {},
   "outputs": [
    {
     "output_type": "stream",
     "name": "stdout",
     "text": [
      "(490, 28)\n(512, 22)\n(490, 33)\n"
     ]
    },
    {
     "output_type": "execute_result",
     "data": {
      "text/plain": [
       "        slug                 name       positions  age                 team  \\\n",
       "0  abdulma02   Mahmoud Abdul-Rauf     POINT GUARD   31  VANCOUVER GRIZZLIES   \n",
       "1  abdulta01    Tariq Abdul-Wahad  SHOOTING GUARD   26       DENVER NUGGETS   \n",
       "2  abdursh01  Shareef Abdur-Rahim   SMALL FORWARD   24  VANCOUVER GRIZZLIES   \n",
       "3  alexaco01       Cory Alexander     POINT GUARD   27        ORLANDO MAGIC   \n",
       "4  alexaco02   Courtney Alexander     POINT GUARD   23     DALLAS MAVERICKS   \n",
       "\n",
       "   games_played  minutes_played  player_efficiency_rating  \\\n",
       "0            41             486                      16.7   \n",
       "1            29             420                       5.8   \n",
       "2            81            3241                      19.1   \n",
       "3            26             227                       6.3   \n",
       "4            38             472                       6.8   \n",
       "\n",
       "   true_shooting_percentage  three_point_attempt_rate  ...  \\\n",
       "0                     0.514                     0.057  ...   \n",
       "1                     0.438                     0.090  ...   \n",
       "2                     0.549                     0.050  ...   \n",
       "3                     0.407                     0.286  ...   \n",
       "4                     0.404                     0.056  ...   \n",
       "\n",
       "   offensive_box_plus_minus  defensive_box_plus_minus  box_plus_minus  \\\n",
       "0                       1.1                      -2.1            -1.0   \n",
       "1                      -5.6                      -0.3            -5.8   \n",
       "2                       1.7                       0.1             1.8   \n",
       "3                      -7.2                       1.2            -6.0   \n",
       "4                      -5.5                      -0.8            -6.2   \n",
       "\n",
       "   value_over_replacement_player  is_combined_totals  \\\n",
       "0                            0.1               False   \n",
       "1                           -0.4               False   \n",
       "2                            3.1               False   \n",
       "3                           -0.2               False   \n",
       "4                           -0.5               False   \n",
       "\n",
       "   made_three_point_field_goals  attempted_three_point_field_goals  \\\n",
       "0                           108                                249   \n",
       "1                             0                                  0   \n",
       "2                             5                                 16   \n",
       "3                             0                                  1   \n",
       "4                             1                                  6   \n",
       "\n",
       "   games_started  attempted_field_goals  made_field_goals  \n",
       "0             75                    585               272  \n",
       "1              0                     10                 5  \n",
       "2             78                   1169               579  \n",
       "3              0                      6                 1  \n",
       "4              3                    116                46  \n",
       "\n",
       "[5 rows x 33 columns]"
      ],
      "text/html": "<div>\n<style scoped>\n    .dataframe tbody tr th:only-of-type {\n        vertical-align: middle;\n    }\n\n    .dataframe tbody tr th {\n        vertical-align: top;\n    }\n\n    .dataframe thead th {\n        text-align: right;\n    }\n</style>\n<table border=\"1\" class=\"dataframe\">\n  <thead>\n    <tr style=\"text-align: right;\">\n      <th></th>\n      <th>slug</th>\n      <th>name</th>\n      <th>positions</th>\n      <th>age</th>\n      <th>team</th>\n      <th>games_played</th>\n      <th>minutes_played</th>\n      <th>player_efficiency_rating</th>\n      <th>true_shooting_percentage</th>\n      <th>three_point_attempt_rate</th>\n      <th>...</th>\n      <th>offensive_box_plus_minus</th>\n      <th>defensive_box_plus_minus</th>\n      <th>box_plus_minus</th>\n      <th>value_over_replacement_player</th>\n      <th>is_combined_totals</th>\n      <th>made_three_point_field_goals</th>\n      <th>attempted_three_point_field_goals</th>\n      <th>games_started</th>\n      <th>attempted_field_goals</th>\n      <th>made_field_goals</th>\n    </tr>\n  </thead>\n  <tbody>\n    <tr>\n      <th>0</th>\n      <td>abdulma02</td>\n      <td>Mahmoud Abdul-Rauf</td>\n      <td>POINT GUARD</td>\n      <td>31</td>\n      <td>VANCOUVER GRIZZLIES</td>\n      <td>41</td>\n      <td>486</td>\n      <td>16.7</td>\n      <td>0.514</td>\n      <td>0.057</td>\n      <td>...</td>\n      <td>1.1</td>\n      <td>-2.1</td>\n      <td>-1.0</td>\n      <td>0.1</td>\n      <td>False</td>\n      <td>108</td>\n      <td>249</td>\n      <td>75</td>\n      <td>585</td>\n      <td>272</td>\n    </tr>\n    <tr>\n      <th>1</th>\n      <td>abdulta01</td>\n      <td>Tariq Abdul-Wahad</td>\n      <td>SHOOTING GUARD</td>\n      <td>26</td>\n      <td>DENVER NUGGETS</td>\n      <td>29</td>\n      <td>420</td>\n      <td>5.8</td>\n      <td>0.438</td>\n      <td>0.090</td>\n      <td>...</td>\n      <td>-5.6</td>\n      <td>-0.3</td>\n      <td>-5.8</td>\n      <td>-0.4</td>\n      <td>False</td>\n      <td>0</td>\n      <td>0</td>\n      <td>0</td>\n      <td>10</td>\n      <td>5</td>\n    </tr>\n    <tr>\n      <th>2</th>\n      <td>abdursh01</td>\n      <td>Shareef Abdur-Rahim</td>\n      <td>SMALL FORWARD</td>\n      <td>24</td>\n      <td>VANCOUVER GRIZZLIES</td>\n      <td>81</td>\n      <td>3241</td>\n      <td>19.1</td>\n      <td>0.549</td>\n      <td>0.050</td>\n      <td>...</td>\n      <td>1.7</td>\n      <td>0.1</td>\n      <td>1.8</td>\n      <td>3.1</td>\n      <td>False</td>\n      <td>5</td>\n      <td>16</td>\n      <td>78</td>\n      <td>1169</td>\n      <td>579</td>\n    </tr>\n    <tr>\n      <th>3</th>\n      <td>alexaco01</td>\n      <td>Cory Alexander</td>\n      <td>POINT GUARD</td>\n      <td>27</td>\n      <td>ORLANDO MAGIC</td>\n      <td>26</td>\n      <td>227</td>\n      <td>6.3</td>\n      <td>0.407</td>\n      <td>0.286</td>\n      <td>...</td>\n      <td>-7.2</td>\n      <td>1.2</td>\n      <td>-6.0</td>\n      <td>-0.2</td>\n      <td>False</td>\n      <td>0</td>\n      <td>1</td>\n      <td>0</td>\n      <td>6</td>\n      <td>1</td>\n    </tr>\n    <tr>\n      <th>4</th>\n      <td>alexaco02</td>\n      <td>Courtney Alexander</td>\n      <td>POINT GUARD</td>\n      <td>23</td>\n      <td>DALLAS MAVERICKS</td>\n      <td>38</td>\n      <td>472</td>\n      <td>6.8</td>\n      <td>0.404</td>\n      <td>0.056</td>\n      <td>...</td>\n      <td>-5.5</td>\n      <td>-0.8</td>\n      <td>-6.2</td>\n      <td>-0.5</td>\n      <td>False</td>\n      <td>1</td>\n      <td>6</td>\n      <td>3</td>\n      <td>116</td>\n      <td>46</td>\n    </tr>\n  </tbody>\n</table>\n<p>5 rows × 33 columns</p>\n</div>"
     },
     "metadata": {},
     "execution_count": 103
    }
   ],
   "source": [
    "data = pd.read_csv(\"2000-2001_advanced_player_season_totals.csv\")\n",
    "print(data.shape)\n",
    "data2 = pd.read_csv(\"2000-2001_player_season_totals.csv\")\n",
    "print(data2.shape)\n",
    "\n",
    "data[\"made_three_point_field_goals\"] = data2[\"made_three_point_field_goals\"]\n",
    "data[\"attempted_three_point_field_goals\"] = data2[\"attempted_three_point_field_goals\"]\n",
    "data[\"games_started\"] = data2[\"games_started\"]\n",
    "data[\"attempted_field_goals\"] = data2[\"attempted_field_goals\"]\n",
    "data[\"made_field_goals\"] = data2[\"made_field_goals\"]\n",
    "\n",
    "print(data.shape)\n",
    "data.head()\n",
    "\n",
    "# \"made_three_point_field_goals\", \"attempted_three_point_field_goals\", \"games_started\", \"attempted_field_goals\",\"made_field_goals\"\n"
   ]
  },
  {
   "cell_type": "code",
   "execution_count": 104,
   "metadata": {},
   "outputs": [
    {
     "output_type": "stream",
     "name": "stdout",
     "text": [
      "(345, 33)\n4\n"
     ]
    },
    {
     "output_type": "execute_result",
     "data": {
      "text/plain": [
       "        slug                 name  positions  age                 team  \\\n",
       "0  abdulma02   Mahmoud Abdul-Rauf          0   31  VANCOUVER GRIZZLIES   \n",
       "2  abdursh01  Shareef Abdur-Rahim          2   24  VANCOUVER GRIZZLIES   \n",
       "4  alexaco02   Courtney Alexander          0   23     DALLAS MAVERICKS   \n",
       "6  allenra02            Ray Allen          1   25      MILWAUKEE BUCKS   \n",
       "7  alstora01         Rafer Alston          0   24      MILWAUKEE BUCKS   \n",
       "\n",
       "   games_played  minutes_played  player_efficiency_rating  \\\n",
       "0            41             486                      16.7   \n",
       "2            81            3241                      19.1   \n",
       "4            38             472                       6.8   \n",
       "6            82            3129                      22.9   \n",
       "7            37             288                      12.1   \n",
       "\n",
       "   true_shooting_percentage  three_point_attempt_rate  ...  \\\n",
       "0                     0.514                     0.057  ...   \n",
       "2                     0.549                     0.050  ...   \n",
       "4                     0.404                     0.056  ...   \n",
       "6                     0.610                     0.357  ...   \n",
       "7                     0.429                     0.357  ...   \n",
       "\n",
       "   offensive_box_plus_minus  defensive_box_plus_minus  box_plus_minus  \\\n",
       "0                       1.1                      -2.1            -1.0   \n",
       "2                       1.7                       0.1             1.8   \n",
       "4                      -5.5                      -0.8            -6.2   \n",
       "6                       5.7                      -0.3             5.5   \n",
       "7                      -1.6                      -0.5            -2.1   \n",
       "\n",
       "   value_over_replacement_player  is_combined_totals  \\\n",
       "0                            0.1               False   \n",
       "2                            3.1               False   \n",
       "4                           -0.5               False   \n",
       "6                            5.9               False   \n",
       "7                            0.0               False   \n",
       "\n",
       "   made_three_point_field_goals  attempted_three_point_field_goals  \\\n",
       "0                           108                                249   \n",
       "2                             5                                 16   \n",
       "4                             1                                  6   \n",
       "6                             0                                  5   \n",
       "7                            28                                 87   \n",
       "\n",
       "   games_started  attempted_field_goals  made_field_goals  \n",
       "0             75                    585               272  \n",
       "2             78                   1169               579  \n",
       "4              3                    116                46  \n",
       "6              8                    253               129  \n",
       "7             13                    277                95  \n",
       "\n",
       "[5 rows x 33 columns]"
      ],
      "text/html": "<div>\n<style scoped>\n    .dataframe tbody tr th:only-of-type {\n        vertical-align: middle;\n    }\n\n    .dataframe tbody tr th {\n        vertical-align: top;\n    }\n\n    .dataframe thead th {\n        text-align: right;\n    }\n</style>\n<table border=\"1\" class=\"dataframe\">\n  <thead>\n    <tr style=\"text-align: right;\">\n      <th></th>\n      <th>slug</th>\n      <th>name</th>\n      <th>positions</th>\n      <th>age</th>\n      <th>team</th>\n      <th>games_played</th>\n      <th>minutes_played</th>\n      <th>player_efficiency_rating</th>\n      <th>true_shooting_percentage</th>\n      <th>three_point_attempt_rate</th>\n      <th>...</th>\n      <th>offensive_box_plus_minus</th>\n      <th>defensive_box_plus_minus</th>\n      <th>box_plus_minus</th>\n      <th>value_over_replacement_player</th>\n      <th>is_combined_totals</th>\n      <th>made_three_point_field_goals</th>\n      <th>attempted_three_point_field_goals</th>\n      <th>games_started</th>\n      <th>attempted_field_goals</th>\n      <th>made_field_goals</th>\n    </tr>\n  </thead>\n  <tbody>\n    <tr>\n      <th>0</th>\n      <td>abdulma02</td>\n      <td>Mahmoud Abdul-Rauf</td>\n      <td>0</td>\n      <td>31</td>\n      <td>VANCOUVER GRIZZLIES</td>\n      <td>41</td>\n      <td>486</td>\n      <td>16.7</td>\n      <td>0.514</td>\n      <td>0.057</td>\n      <td>...</td>\n      <td>1.1</td>\n      <td>-2.1</td>\n      <td>-1.0</td>\n      <td>0.1</td>\n      <td>False</td>\n      <td>108</td>\n      <td>249</td>\n      <td>75</td>\n      <td>585</td>\n      <td>272</td>\n    </tr>\n    <tr>\n      <th>2</th>\n      <td>abdursh01</td>\n      <td>Shareef Abdur-Rahim</td>\n      <td>2</td>\n      <td>24</td>\n      <td>VANCOUVER GRIZZLIES</td>\n      <td>81</td>\n      <td>3241</td>\n      <td>19.1</td>\n      <td>0.549</td>\n      <td>0.050</td>\n      <td>...</td>\n      <td>1.7</td>\n      <td>0.1</td>\n      <td>1.8</td>\n      <td>3.1</td>\n      <td>False</td>\n      <td>5</td>\n      <td>16</td>\n      <td>78</td>\n      <td>1169</td>\n      <td>579</td>\n    </tr>\n    <tr>\n      <th>4</th>\n      <td>alexaco02</td>\n      <td>Courtney Alexander</td>\n      <td>0</td>\n      <td>23</td>\n      <td>DALLAS MAVERICKS</td>\n      <td>38</td>\n      <td>472</td>\n      <td>6.8</td>\n      <td>0.404</td>\n      <td>0.056</td>\n      <td>...</td>\n      <td>-5.5</td>\n      <td>-0.8</td>\n      <td>-6.2</td>\n      <td>-0.5</td>\n      <td>False</td>\n      <td>1</td>\n      <td>6</td>\n      <td>3</td>\n      <td>116</td>\n      <td>46</td>\n    </tr>\n    <tr>\n      <th>6</th>\n      <td>allenra02</td>\n      <td>Ray Allen</td>\n      <td>1</td>\n      <td>25</td>\n      <td>MILWAUKEE BUCKS</td>\n      <td>82</td>\n      <td>3129</td>\n      <td>22.9</td>\n      <td>0.610</td>\n      <td>0.357</td>\n      <td>...</td>\n      <td>5.7</td>\n      <td>-0.3</td>\n      <td>5.5</td>\n      <td>5.9</td>\n      <td>False</td>\n      <td>0</td>\n      <td>5</td>\n      <td>8</td>\n      <td>253</td>\n      <td>129</td>\n    </tr>\n    <tr>\n      <th>7</th>\n      <td>alstora01</td>\n      <td>Rafer Alston</td>\n      <td>0</td>\n      <td>24</td>\n      <td>MILWAUKEE BUCKS</td>\n      <td>37</td>\n      <td>288</td>\n      <td>12.1</td>\n      <td>0.429</td>\n      <td>0.357</td>\n      <td>...</td>\n      <td>-1.6</td>\n      <td>-0.5</td>\n      <td>-2.1</td>\n      <td>0.0</td>\n      <td>False</td>\n      <td>28</td>\n      <td>87</td>\n      <td>13</td>\n      <td>277</td>\n      <td>95</td>\n    </tr>\n  </tbody>\n</table>\n<p>5 rows × 33 columns</p>\n</div>"
     },
     "metadata": {},
     "execution_count": 104
    }
   ],
   "source": [
    "#Data cleaning\n",
    "\n",
    "position_dict = {\"POINT GUARD\": 0, \"SHOOTING GUARD\": 1, \"SMALL FORWARD\": 2, \"POWER FORWARD\": 3, \"CENTER\": 4, \"FORWARD\": 5, \"GUARD\": 6} \n",
    "\n",
    "data = data[data['games_played'] >= 30]\n",
    "data = data.replace(position_dict)\n",
    "data = data[data['positions'] <= 4]\n",
    "print(data.shape)\n",
    "print(data[\"positions\"].max())\n",
    "data.head()"
   ]
  },
  {
   "cell_type": "code",
   "execution_count": 105,
   "metadata": {},
   "outputs": [],
   "source": [
    "data = data[['player_efficiency_rating', 'true_shooting_percentage', 'three_point_attempt_rate', 'free_throw_attempt_rate', 'offensive_rebound_percentage', 'defensive_rebound_percentage', 'total_rebound_percentage', 'assist_percentage', 'steal_percentage', 'block_percentage', 'turnover_percentage', 'usage_percentage', 'offensive_win_shares', 'defensive_win_shares', 'win_shares', 'win_shares_per_48_minutes', 'offensive_box_plus_minus', 'defensive_box_plus_minus', 'box_plus_minus', 'value_over_replacement_player', 'positions']]\n",
    "data.head()\n",
    "data.to_csv(\"./2000-2001_min30_advanced_player_season_totals.csv\", index=False)"
   ]
  },
  {
   "cell_type": "code",
   "execution_count": null,
   "metadata": {},
   "outputs": [],
   "source": []
  }
 ]
}